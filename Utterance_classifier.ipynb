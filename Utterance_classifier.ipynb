{
  "nbformat": 4,
  "nbformat_minor": 0,
  "metadata": {
    "colab": {
      "name": "Utterance_classifier.ipynb",
      "provenance": []
    },
    "kernelspec": {
      "name": "python3",
      "display_name": "Python 3"
    },
    "language_info": {
      "name": "python"
    }
  },
  "cells": [
    {
      "cell_type": "code",
      "metadata": {
        "id": "Angla0OAowk_"
      },
      "source": [
        "import numpy as np\n",
        "import spacy\n",
        "import sklearn\n",
        "import nltk\n",
        "import math\n",
        "import pandas as pd\n",
        "from collections import defaultdict\n",
        "from nltk.corpus import stopwords\n",
        "from nltk import word_tokenize\n",
        "from nltk.util import ngrams\n",
        "from nltk.stem import WordNetLemmatizer\n",
        "from nltk.corpus import wordnet as wn\n",
        "from string import punctuation\n",
        "from sklearn.metrics.pairwise import cosine_similarity"
      ],
      "execution_count": null,
      "outputs": []
    },
    {
      "cell_type": "code",
      "metadata": {
        "colab": {
          "base_uri": "https://localhost:8080/"
        },
        "id": "WbkJilvPaGS_",
        "outputId": "aa244ba4-c2a1-4ea9-ecb5-78f270bdf6bf"
      },
      "source": [
        "nltk.download('stopwords')\n",
        "nltk.download('punkt')\n",
        "nltk.download('wordnet')"
      ],
      "execution_count": null,
      "outputs": [
        {
          "output_type": "stream",
          "name": "stdout",
          "text": [
            "[nltk_data] Downloading package stopwords to /root/nltk_data...\n",
            "[nltk_data]   Unzipping corpora/stopwords.zip.\n",
            "[nltk_data] Downloading package punkt to /root/nltk_data...\n",
            "[nltk_data]   Unzipping tokenizers/punkt.zip.\n",
            "[nltk_data] Downloading package wordnet to /root/nltk_data...\n",
            "[nltk_data]   Unzipping corpora/wordnet.zip.\n"
          ]
        },
        {
          "output_type": "execute_result",
          "data": {
            "text/plain": [
              "True"
            ]
          },
          "metadata": {},
          "execution_count": 17
        }
      ]
    },
    {
      "cell_type": "code",
      "metadata": {
        "id": "coPQPwpD6kei"
      },
      "source": [
        "srp_df = pd.read_csv('/content/SPR QA Training Data - Sheet1 (1).csv', header=None)\n",
        "srp_df.columns = ['q', 'a']"
      ],
      "execution_count": null,
      "outputs": []
    },
    {
      "cell_type": "code",
      "metadata": {
        "colab": {
          "base_uri": "https://localhost:8080/",
          "height": 206
        },
        "id": "pCGoOoWG7YN0",
        "outputId": "380d27ff-feae-4767-8e42-7b29b9a82610"
      },
      "source": [
        "srp_df.head()"
      ],
      "execution_count": null,
      "outputs": [
        {
          "output_type": "execute_result",
          "data": {
            "text/html": [
              "<div>\n",
              "<style scoped>\n",
              "    .dataframe tbody tr th:only-of-type {\n",
              "        vertical-align: middle;\n",
              "    }\n",
              "\n",
              "    .dataframe tbody tr th {\n",
              "        vertical-align: top;\n",
              "    }\n",
              "\n",
              "    .dataframe thead th {\n",
              "        text-align: right;\n",
              "    }\n",
              "</style>\n",
              "<table border=\"1\" class=\"dataframe\">\n",
              "  <thead>\n",
              "    <tr style=\"text-align: right;\">\n",
              "      <th></th>\n",
              "      <th>q</th>\n",
              "      <th>a</th>\n",
              "    </tr>\n",
              "  </thead>\n",
              "  <tbody>\n",
              "    <tr>\n",
              "      <th>0</th>\n",
              "      <td>How many trees are on Swanton Pacific Ranch?</td>\n",
              "      <td>More than a thousand but less than 10 million....</td>\n",
              "    </tr>\n",
              "    <tr>\n",
              "      <th>1</th>\n",
              "      <td>How many trees were there before the fires in ...</td>\n",
              "      <td>More than a thousand but less than 10 million....</td>\n",
              "    </tr>\n",
              "    <tr>\n",
              "      <th>2</th>\n",
              "      <td>What is the most common tree species at SPR?</td>\n",
              "      <td>Coast live oak</td>\n",
              "    </tr>\n",
              "    <tr>\n",
              "      <th>3</th>\n",
              "      <td>How old is the oldest tree at SPR?</td>\n",
              "      <td>1200 year stem; 5,000 year old roots</td>\n",
              "    </tr>\n",
              "    <tr>\n",
              "      <th>4</th>\n",
              "      <td>What biome/ecosystem/ecotype covers the greate...</td>\n",
              "      <td>Coastal</td>\n",
              "    </tr>\n",
              "  </tbody>\n",
              "</table>\n",
              "</div>"
            ],
            "text/plain": [
              "                                                   q                                                  a\n",
              "0       How many trees are on Swanton Pacific Ranch?  More than a thousand but less than 10 million....\n",
              "1  How many trees were there before the fires in ...  More than a thousand but less than 10 million....\n",
              "2       What is the most common tree species at SPR?                                     Coast live oak\n",
              "3                How old is the oldest tree at SPR?                1200 year stem; 5,000 year old roots\n",
              "4  What biome/ecosystem/ecotype covers the greate...                                            Coastal"
            ]
          },
          "metadata": {},
          "execution_count": 169
        }
      ]
    },
    {
      "cell_type": "code",
      "metadata": {
        "id": "t4pg9kwkqPdp"
      },
      "source": [
        "srp_utterances = srp_df['q'].tolist()"
      ],
      "execution_count": null,
      "outputs": []
    },
    {
      "cell_type": "code",
      "metadata": {
        "id": "QtAHi3PnqdbN"
      },
      "source": [
        "small_talk = [\n",
        "\"How are you?\",\n",
        "\"How is the weather?\",\n",
        "\"Have you listened to the new Drake album?\",\n",
        "\"What kind of food do you like?\",\n",
        "\"Why is the sky blue?\",\n",
        "\"To be or not to be?\",\n",
        "\"Any suggestions for a good restaurant?\"\n",
        "]"
      ],
      "execution_count": null,
      "outputs": []
    },
    {
      "cell_type": "markdown",
      "metadata": {
        "id": "IVDd3XUiRbmK"
      },
      "source": [
        "### Wordnet Similarity Scoring"
      ]
    },
    {
      "cell_type": "markdown",
      "metadata": {
        "id": "cHUOD9N5Rwgf"
      },
      "source": [
        "#### Normalization using Wordnet"
      ]
    },
    {
      "cell_type": "code",
      "metadata": {
        "id": "olZvr52Mo3rR"
      },
      "source": [
        "def lemmatize_ngram(ngram):\n",
        "    lemmatized = []\n",
        "    for n in ngram:\n",
        "        lemmatized.append(wnl.lemmatize(n))\n",
        "    return tuple(lemmatized)\n",
        "\n",
        "def lemmatize_wn_synset(ngram):\n",
        "    wn_synsets = []\n",
        "    for n in ngram:\n",
        "        synset = wn.synsets(n)\n",
        "        if not synset:\n",
        "            wn_synsets.append(n)\n",
        "            continue\n",
        "        wn_synsets.append(synset[0].name())\n",
        "    return tuple(wn_synsets)\n",
        "\n",
        "def lemmatize_wn_hypernum(ngram):\n",
        "    wn_synsets = []\n",
        "    for n in ngram:\n",
        "        synset = wn.synsets(n)\n",
        "        if not synset:\n",
        "            wn_synsets.append(n)\n",
        "            continue\n",
        "        if not synset[0].hypernyms():\n",
        "            wn_synsets.append(synset[0].name())\n",
        "            continue\n",
        "        wn_synsets.append(synset[0].hypernyms()[0].name())\n",
        "    return tuple(wn_synsets)\n",
        "\n",
        "def make_ngram_list(text, max_ngram=4):\n",
        "    ngram_list = []\n",
        "    for n in range(1, max_ngram+1):\n",
        "        ngram_list.append(list(ngrams(text, n)))\n",
        "    return ngram_list\n",
        "\n",
        "def score_ngrams(ngram_list_1, ngram_list_2, return_seen, idf_weight):\n",
        "    ngram_set_list2 = []\n",
        "    for l in ngram_list_2:\n",
        "        ngram_set_list2.append(set(l))\n",
        "    score = 0.0\n",
        "    seen = set()\n",
        "    for idx,n_list in enumerate(ngram_list_1):\n",
        "        for ngram in n_list:\n",
        "            if ngram in ngram_set_list2[idx] and ngram not in seen:\n",
        "                #print(ngram)\n",
        "                idf_w = idf_dict[ngram]\n",
        "                score += (idx+1)**2 * idf_dict[ngram]\n",
        "            seen.add(ngram)\n",
        "    if return_seen:\n",
        "        return float(score), seen\n",
        "    return float(score), None"
      ],
      "execution_count": null,
      "outputs": []
    },
    {
      "cell_type": "code",
      "metadata": {
        "id": "d_JNONYUqI1C"
      },
      "source": [
        "stopwords_en = set(stopwords.words('english'))\n",
        "punct_set = set(punctuation)\n",
        "remove_set = stopwords_en.union(punct_set)\n",
        "wnl = WordNetLemmatizer()"
      ],
      "execution_count": null,
      "outputs": []
    },
    {
      "cell_type": "code",
      "metadata": {
        "id": "uEt10Ie2aEl7"
      },
      "source": [
        "def preprocess(text):\n",
        "  return [token.lower() for token in word_tokenize(text) if token.lower() not in remove_set]\n",
        "\n",
        "def get_ngram_features(preprocessed_text):\n",
        "  ngram_lists = make_ngram_list(preprocessed_text, max_ngram=3)\n",
        "  normed_ngram_features = defaultdict(list)\n",
        "  for normalization in [lemmatize_ngram, lemmatize_wn_synset, lemmatize_wn_hypernum]:\n",
        "    for ngram_list in ngram_lists:\n",
        "      normed_ngrams = [normalization(ngram) for ngram in ngram_list]\n",
        "      normed_ngram_features[normalization.__name__].append(normed_ngrams)\n",
        "  return normed_ngram_features"
      ],
      "execution_count": null,
      "outputs": []
    },
    {
      "cell_type": "code",
      "metadata": {
        "id": "lZgsT9Twtpmo"
      },
      "source": [
        "def get_all_features(text_list):\n",
        "  normed_ngram_features = defaultdict(list)\n",
        "  for text in text_list:\n",
        "    #print(text)\n",
        "    ngram_lists = make_ngram_list(preprocess(text), max_ngram=3)\n",
        "    for normalization in [lemmatize_ngram, lemmatize_wn_synset, lemmatize_wn_hypernum]:\n",
        "      for ngram_list in ngram_lists:\n",
        "        #print(ngram_list)\n",
        "        normed_ngrams = [normalization(ngram) for ngram in ngram_list]\n",
        "        normed_ngram_features[normalization.__name__].extend(normed_ngrams)\n",
        "  print(normed_ngram_features)\n",
        "  return normed_ngram_features"
      ],
      "execution_count": null,
      "outputs": []
    },
    {
      "cell_type": "markdown",
      "metadata": {
        "id": "LQk7tMu-RsF_"
      },
      "source": [
        "#### Calculate IDF weights for scoring"
      ]
    },
    {
      "cell_type": "code",
      "metadata": {
        "colab": {
          "base_uri": "https://localhost:8080/"
        },
        "id": "X9OqBGhlRrXP",
        "outputId": "d9c5e642-ecbc-44d8-ee59-48f568fde5f0"
      },
      "source": [
        "idf_dict = defaultdict(list)\n",
        "N = len(srp_utterances)\n",
        "print(N)\n",
        "for idx, sent in enumerate(srp_utterances):\n",
        "    ngram_norm_dict = {}\n",
        "    ngram_lists = make_ngram_list(preprocess(sent), max_ngram=3)\n",
        "    for normalization in [lemmatize_ngram, lemmatize_wn_synset, lemmatize_wn_hypernum]:\n",
        "        normalized_ngrams = []\n",
        "        for n_list in ngram_lists:\n",
        "            normalized_ngrams.append([normalization(ngram) for ngram in n_list])\n",
        "        ngram_norm_dict[normalization.__name__] = normalized_ngrams\n",
        "    for norm, ngram_lists in ngram_norm_dict.items():\n",
        "        for ngram_list in ngram_lists:\n",
        "            for ngram in ngram_list:\n",
        "                if idx in idf_dict[ngram]:\n",
        "                    continue\n",
        "                idf_dict[ngram].append(idx)\n",
        "          \n",
        "for key, value in idf_dict.items():\n",
        "    idf_dict[key] = math.log(17.0/float(len(value)), 10)"
      ],
      "execution_count": null,
      "outputs": [
        {
          "output_type": "stream",
          "name": "stdout",
          "text": [
            "52\n"
          ]
        }
      ]
    },
    {
      "cell_type": "code",
      "metadata": {
        "id": "61xr1hu0SV9k"
      },
      "source": [
        "def score_ngrams(ngram_list_1, ngram_list_2, return_seen=False):\n",
        "    ngram_set_list2 = []\n",
        "    for l in ngram_list_2:\n",
        "        ngram_set_list2.append(set(l))\n",
        "    score = 0.0\n",
        "    seen = set()\n",
        "    seen_match = set()\n",
        "    for idx,n_list in enumerate(ngram_list_1):\n",
        "        #print(n_list)\n",
        "        for ngram in n_list:\n",
        "            if ngram in ngram_set_list2[idx] and ngram not in seen:\n",
        "                #print(ngram)\n",
        "                idf_w = idf_dict[ngram]\n",
        "                score += (idx+1)**2 * idf_dict[ngram]\n",
        "                seen_match.add(ngram)\n",
        "            seen.add(ngram)\n",
        "    if return_seen:\n",
        "        return float(score), seen_match\n",
        "    return float(score), None"
      ],
      "execution_count": null,
      "outputs": []
    },
    {
      "cell_type": "code",
      "metadata": {
        "id": "xeTDuE6pubm6"
      },
      "source": [
        "### Process training data"
      ],
      "execution_count": null,
      "outputs": []
    },
    {
      "cell_type": "code",
      "metadata": {
        "id": "LYADiAavdG3f",
        "colab": {
          "base_uri": "https://localhost:8080/"
        },
        "outputId": "7859bad3-a2ff-4798-d505-94bf3839758d"
      },
      "source": [
        "features = get_all_features(srp_utterances)"
      ],
      "execution_count": null,
      "outputs": [
        {
          "output_type": "stream",
          "name": "stdout",
          "text": [
            "defaultdict(<class 'list'>, {'lemmatize_ngram': [('many',), ('tree',), ('swanton',), ('pacific',), ('ranch',), ('many', 'tree'), ('tree', 'swanton'), ('swanton', 'pacific'), ('pacific', 'ranch'), ('many', 'tree', 'swanton'), ('tree', 'swanton', 'pacific'), ('swanton', 'pacific', 'ranch'), ('many',), ('tree',), ('fire',), ('2020',), ('many', 'tree'), ('tree', 'fire'), ('fire', '2020'), ('many', 'tree', 'fire'), ('tree', 'fire', '2020'), ('common',), ('tree',), ('specie',), ('spr',), ('common', 'tree'), ('tree', 'specie'), ('specie', 'spr'), ('common', 'tree', 'specie'), ('tree', 'specie', 'spr'), ('old',), ('oldest',), ('tree',), ('spr',), ('old', 'oldest'), ('oldest', 'tree'), ('tree', 'spr'), ('old', 'oldest', 'tree'), ('oldest', 'tree', 'spr'), ('biome/ecosystem/ecotype',), ('cover',), ('greatest',), ('area',), ('spr',), ('biome/ecosystem/ecotype', 'cover'), ('cover', 'greatest'), ('greatest', 'area'), ('area', 'spr'), ('biome/ecosystem/ecotype', 'cover', 'greatest'), ('cover', 'greatest', 'area'), ('greatest', 'area', 'spr'), ('valencia',), ('creek',), ('become',), ('part',), ('spr',), ('valencia', 'creek'), ('creek', 'become'), ('become', 'part'), ('part', 'spr'), ('valencia', 'creek', 'become'), ('creek', 'become', 'part'), ('become', 'part', 'spr'), ('cal',), ('poly',), ('get',), ('swanton',), ('pacific',), ('ranch',), ('cal', 'poly'), ('poly', 'get'), ('get', 'swanton'), ('swanton', 'pacific'), ('pacific', 'ranch'), ('cal', 'poly', 'get'), ('poly', 'get', 'swanton'), ('get', 'swanton', 'pacific'), ('swanton', 'pacific', 'ranch'), ('big',), ('swanton',), ('pacific',), ('ranch',), ('big', 'swanton'), ('swanton', 'pacific'), ('pacific', 'ranch'), ('big', 'swanton', 'pacific'), ('swanton', 'pacific', 'ranch'), ('swanton',), ('pacific',), ('ranch',), ('open',), ('public',), ('swanton', 'pacific'), ('pacific', 'ranch'), ('ranch', 'open'), ('open', 'public'), ('swanton', 'pacific', 'ranch'), ('pacific', 'ranch', 'open'), ('ranch', 'open', 'public'), ('camp',), ('hike',), ('swanton',), ('pacific',), ('ranch',), ('camp', 'hike'), ('hike', 'swanton'), ('swanton', 'pacific'), ('pacific', 'ranch'), ('camp', 'hike', 'swanton'), ('hike', 'swanton', 'pacific'), ('swanton', 'pacific', 'ranch'), ('may',), ('camp',), ('hike',), ('swanton',), ('pacific',), ('ranch',), ('may', 'camp'), ('camp', 'hike'), ('hike', 'swanton'), ('swanton', 'pacific'), ('pacific', 'ranch'), ('may', 'camp', 'hike'), ('camp', 'hike', 'swanton'), ('hike', 'swanton', 'pacific'), ('swanton', 'pacific', 'ranch'), ('swanton',), ('pacific',), ('ranch',), ('open',), ('public',), ('swanton', 'pacific'), ('pacific', 'ranch'), ('ranch', 'open'), ('open', 'public'), ('swanton', 'pacific', 'ranch'), ('pacific', 'ranch', 'open'), ('ranch', 'open', 'public'), ('original',), ('name',), ('swanton',), ('pacific',), ('ranch',), ('original', 'name'), ('name', 'swanton'), ('swanton', 'pacific'), ('pacific', 'ranch'), ('original', 'name', 'swanton'), ('name', 'swanton', 'pacific'), ('swanton', 'pacific', 'ranch'), ('fun',), ('fact',), ('rancho',), ('fun', 'fact'), ('fact', 'rancho'), ('fun', 'fact', 'rancho'), ('learn',), ('swanton',), ('pacific',), ('ranch',), ('learn', 'swanton'), ('swanton', 'pacific'), ('pacific', 'ranch'), ('learn', 'swanton', 'pacific'), ('swanton', 'pacific', 'ranch'), ('green',), ('house',), ('used',), ('green', 'house'), ('house', 'used'), ('green', 'house', 'used'), ('casa',), ('verde',), ('used',), ('casa', 'verde'), ('verde', 'used'), ('casa', 'verde', 'used'), ('tell',), ('green',), ('house',), ('tell', 'green'), ('green', 'house'), ('tell', 'green', 'house'), ('tell',), ('green',), ('house',), ('tell', 'green'), ('green', 'house'), ('tell', 'green', 'house'), ('tell',), ('green',), ('house',), ('tell', 'green'), ('green', 'house'), ('tell', 'green', 'house'), ('old',), ('cheese',), ('house',), ('old', 'cheese'), ('cheese', 'house'), ('old', 'cheese', 'house'), ('cheese',), ('house',), ('used',), ('cheese', 'house'), ('house', 'used'), ('cheese', 'house', 'used'), ('tell',), ('cheese',), ('house',), ('tell', 'cheese'), ('cheese', 'house'), ('tell', 'cheese', 'house'), ('stone',), ('building',), ('falling',), ('stone', 'building'), ('building', 'falling'), ('stone', 'building', 'falling'), ('stone',), ('building',), ('fixed',), ('stone', 'building'), ('building', 'fixed'), ('stone', 'building', 'fixed'), ('swanton',), ('get',), ('name',), ('swanton', 'get'), ('get', 'name'), ('swanton', 'get', 'name'), ('una',), ('legua',), ('cuadrada',), ('mean',), ('spanish',), ('una', 'legua'), ('legua', 'cuadrada'), ('cuadrada', 'mean'), ('mean', 'spanish'), ('una', 'legua', 'cuadrada'), ('legua', 'cuadrada', 'mean'), ('cuadrada', 'mean', 'spanish'), ('original',), ('size',), ('land',), ('grant',), ('know',), ('swanton',), ('original', 'size'), ('size', 'land'), ('land', 'grant'), ('grant', 'know'), ('know', 'swanton'), ('original', 'size', 'land'), ('size', 'land', 'grant'), ('land', 'grant', 'know'), ('grant', 'know', 'swanton'), ('official',), ('name',), ('scott',), ('creek',), ('scott',), ('creek',), ('scott',), ('scott',), (\"'s\",), ('creek',), ('official', 'name'), ('name', 'scott'), ('scott', 'creek'), ('creek', 'scott'), ('scott', 'creek'), ('creek', 'scott'), ('scott', 'scott'), ('scott', \"'s\"), (\"'s\", 'creek'), ('official', 'name', 'scott'), ('name', 'scott', 'creek'), ('scott', 'creek', 'scott'), ('creek', 'scott', 'creek'), ('scott', 'creek', 'scott'), ('creek', 'scott', 'scott'), ('scott', 'scott', \"'s\"), ('scott', \"'s\", 'creek'), ('group',), ('indigenous',), ('people',), ('lived',), ('swanton',), ('area',), ('spanish',), ('colonization',), ('group', 'indigenous'), ('indigenous', 'people'), ('people', 'lived'), ('lived', 'swanton'), ('swanton', 'area'), ('area', 'spanish'), ('spanish', 'colonization'), ('group', 'indigenous', 'people'), ('indigenous', 'people', 'lived'), ('people', 'lived', 'swanton'), ('lived', 'swanton', 'area'), ('swanton', 'area', 'spanish'), ('area', 'spanish', 'colonization'), ('group',), ('indigenous',), ('people',), ('lived',), ('swanton',), ('area',), ('spanish',), ('colonization',), ('group', 'indigenous'), ('indigenous', 'people'), ('people', 'lived'), ('lived', 'swanton'), ('swanton', 'area'), ('area', 'spanish'), ('spanish', 'colonization'), ('group', 'indigenous', 'people'), ('indigenous', 'people', 'lived'), ('people', 'lived', 'swanton'), ('lived', 'swanton', 'area'), ('swanton', 'area', 'spanish'), ('area', 'spanish', 'colonization'), ('indigenous',), ('people',), ('swanton',), ('usually',), ('referred',), ('ohlone',), ('indigenous', 'people'), ('people', 'swanton'), ('swanton', 'usually'), ('usually', 'referred'), ('referred', 'ohlone'), ('indigenous', 'people', 'swanton'), ('people', 'swanton', 'usually'), ('swanton', 'usually', 'referred'), ('usually', 'referred', 'ohlone'), ('indigenous',), ('people',), ('swanton',), ('usually',), ('referred',), ('ohlone',), ('indigenous', 'people'), ('people', 'swanton'), ('swanton', 'usually'), ('usually', 'referred'), ('referred', 'ohlone'), ('indigenous', 'people', 'swanton'), ('people', 'swanton', 'usually'), ('swanton', 'usually', 'referred'), ('usually', 'referred', 'ohlone'), ('indigenous',), ('people',), ('swanton',), ('usually',), ('referred',), ('ohlone',), ('indigenous', 'people'), ('people', 'swanton'), ('swanton', 'usually'), ('usually', 'referred'), ('referred', 'ohlone'), ('indigenous', 'people', 'swanton'), ('people', 'swanton', 'usually'), ('swanton', 'usually', 'referred'), ('usually', 'referred', 'ohlone'), ('many',), ('plant',), ('identified',), ('swanton/scott',), ('creek',), ('watershed',), ('many', 'plant'), ('plant', 'identified'), ('identified', 'swanton/scott'), ('swanton/scott', 'creek'), ('creek', 'watershed'), ('many', 'plant', 'identified'), ('plant', 'identified', 'swanton/scott'), ('identified', 'swanton/scott', 'creek'), ('swanton/scott', 'creek', 'watershed'), ('happened',), ('indigenous',), ('people',), ('swanton',), ('know',), ('santa',), ('cruz',), ('happened', 'indigenous'), ('indigenous', 'people'), ('people', 'swanton'), ('swanton', 'know'), ('know', 'santa'), ('santa', 'cruz'), ('happened', 'indigenous', 'people'), ('indigenous', 'people', 'swanton'), ('people', 'swanton', 'know'), ('swanton', 'know', 'santa'), ('know', 'santa', 'cruz'), ('spanish',), ('colonization',), ('california',), ('begin',), ('spanish', 'colonization'), ('colonization', 'california'), ('california', 'begin'), ('spanish', 'colonization', 'california'), ('colonization', 'california', 'begin'), ('mexico',), ('take',), ('control',), ('california',), ('mexico', 'take'), ('take', 'control'), ('control', 'california'), ('mexico', 'take', 'control'), ('take', 'control', 'california'), ('santa',), ('cruz',), ('mission',), ('built',), ('santa', 'cruz'), ('cruz', 'mission'), ('mission', 'built'), ('santa', 'cruz', 'mission'), ('cruz', 'mission', 'built'), ('original',), ('name',), ('land',), ('grant',), ('swanton',), ('part',), ('original', 'name'), ('name', 'land'), ('land', 'grant'), ('grant', 'swanton'), ('swanton', 'part'), ('original', 'name', 'land'), ('name', 'land', 'grant'), ('land', 'grant', 'swanton'), ('grant', 'swanton', 'part'), ('given',), ('title',), ('original',), ('land',), ('grant',), ('given', 'title'), ('title', 'original'), ('original', 'land'), ('land', 'grant'), ('given', 'title', 'original'), ('title', 'original', 'land'), ('original', 'land', 'grant'), ('james',), ('archibald',), ('purchase',), ('land',), ('james', 'archibald'), ('archibald', 'purchase'), ('purchase', 'land'), ('james', 'archibald', 'purchase'), ('archibald', 'purchase', 'land'), ('james',), ('archibald',), ('james', 'archibald'), ('james',), ('archibald',), ('land',), ('james', 'archibald'), ('archibald', 'land'), ('james', 'archibald', 'land'), ('built',), ('cheese',), ('house',), ('built', 'cheese'), ('cheese', 'house'), ('built', 'cheese', 'house'), ('ambrogio',), ('gianone',), ('ever',), ('leave',), ('buy',), ('property',), ('ambrogio', 'gianone'), ('gianone', 'ever'), ('ever', 'leave'), ('leave', 'buy'), ('buy', 'property'), ('ambrogio', 'gianone', 'ever'), ('gianone', 'ever', 'leave'), ('ever', 'leave', 'buy'), ('leave', 'buy', 'property'), ('name',), ('swanton',), ('called',), ('becoming',), ('state',), ('name', 'swanton'), ('swanton', 'called'), ('called', 'becoming'), ('becoming', 'state'), ('name', 'swanton', 'called'), ('swanton', 'called', 'becoming'), ('called', 'becoming', 'state'), ('name',), ('swanton',), ('called',), ('becoming',), ('state',), ('name', 'swanton'), ('swanton', 'called'), ('called', 'becoming'), ('becoming', 'state'), ('name', 'swanton', 'called'), ('swanton', 'called', 'becoming'), ('called', 'becoming', 'state'), ('swanton',), ('post',), ('office',), ('open',), ('swanton', 'post'), ('post', 'office'), ('office', 'open'), ('swanton', 'post', 'office'), ('post', 'office', 'open'), ('swanton',), ('post',), ('office',), ('close',), ('swanton', 'post'), ('post', 'office'), ('office', 'close'), ('swanton', 'post', 'office'), ('post', 'office', 'close'), ('suggested',), ('name',), ('first',), ('local',), ('post',), ('office',), ('suggested', 'name'), ('name', 'first'), ('first', 'local'), ('local', 'post'), ('post', 'office'), ('suggested', 'name', 'first'), ('name', 'first', 'local'), ('first', 'local', 'post'), ('local', 'post', 'office'), ('type',), ('wood',), ('type', 'wood')], 'lemmatize_wn_synset': [('many.a.01',), ('tree.n.01',), ('swanton',), ('pacific.n.01',), ('ranch.n.01',), ('many.a.01', 'tree.n.01'), ('tree.n.01', 'swanton'), ('swanton', 'pacific.n.01'), ('pacific.n.01', 'ranch.n.01'), ('many.a.01', 'tree.n.01', 'swanton'), ('tree.n.01', 'swanton', 'pacific.n.01'), ('swanton', 'pacific.n.01', 'ranch.n.01'), ('many.a.01',), ('tree.n.01',), ('fire.n.01',), ('2020',), ('many.a.01', 'tree.n.01'), ('tree.n.01', 'fire.n.01'), ('fire.n.01', '2020'), ('many.a.01', 'tree.n.01', 'fire.n.01'), ('tree.n.01', 'fire.n.01', '2020'), ('park.n.02',), ('tree.n.01',), ('species.n.01',), ('spr',), ('park.n.02', 'tree.n.01'), ('tree.n.01', 'species.n.01'), ('species.n.01', 'spr'), ('park.n.02', 'tree.n.01', 'species.n.01'), ('tree.n.01', 'species.n.01', 'spr'), ('old.n.01',), ('old.a.01',), ('tree.n.01',), ('spr',), ('old.n.01', 'old.a.01'), ('old.a.01', 'tree.n.01'), ('tree.n.01', 'spr'), ('old.n.01', 'old.a.01', 'tree.n.01'), ('old.a.01', 'tree.n.01', 'spr'), ('biome/ecosystem/ecotype',), ('screen.n.04',), ('greatest.s.01',), ('area.n.01',), ('spr',), ('biome/ecosystem/ecotype', 'screen.n.04'), ('screen.n.04', 'greatest.s.01'), ('greatest.s.01', 'area.n.01'), ('area.n.01', 'spr'), ('biome/ecosystem/ecotype', 'screen.n.04', 'greatest.s.01'), ('screen.n.04', 'greatest.s.01', 'area.n.01'), ('greatest.s.01', 'area.n.01', 'spr'), ('valencia.n.01',), ('brook.n.01',), ('become.v.01',), ('part.n.01',), ('spr',), ('valencia.n.01', 'brook.n.01'), ('brook.n.01', 'become.v.01'), ('become.v.01', 'part.n.01'), ('part.n.01', 'spr'), ('valencia.n.01', 'brook.n.01', 'become.v.01'), ('brook.n.01', 'become.v.01', 'part.n.01'), ('become.v.01', 'part.n.01', 'spr'), ('cal',), ('poly',), ('get.n.01',), ('swanton',), ('pacific.n.01',), ('ranch.n.01',), ('cal', 'poly'), ('poly', 'get.n.01'), ('get.n.01', 'swanton'), ('swanton', 'pacific.n.01'), ('pacific.n.01', 'ranch.n.01'), ('cal', 'poly', 'get.n.01'), ('poly', 'get.n.01', 'swanton'), ('get.n.01', 'swanton', 'pacific.n.01'), ('swanton', 'pacific.n.01', 'ranch.n.01'), ('large.a.01',), ('swanton',), ('pacific.n.01',), ('ranch.n.01',), ('large.a.01', 'swanton'), ('swanton', 'pacific.n.01'), ('pacific.n.01', 'ranch.n.01'), ('large.a.01', 'swanton', 'pacific.n.01'), ('swanton', 'pacific.n.01', 'ranch.n.01'), ('swanton',), ('pacific.n.01',), ('ranch.n.01',), ('open.n.01',), ('populace.n.01',), ('swanton', 'pacific.n.01'), ('pacific.n.01', 'ranch.n.01'), ('ranch.n.01', 'open.n.01'), ('open.n.01', 'populace.n.01'), ('swanton', 'pacific.n.01', 'ranch.n.01'), ('pacific.n.01', 'ranch.n.01', 'open.n.01'), ('ranch.n.01', 'open.n.01', 'populace.n.01'), ('camp.n.01',), ('hike.n.01',), ('swanton',), ('pacific.n.01',), ('ranch.n.01',), ('camp.n.01', 'hike.n.01'), ('hike.n.01', 'swanton'), ('swanton', 'pacific.n.01'), ('pacific.n.01', 'ranch.n.01'), ('camp.n.01', 'hike.n.01', 'swanton'), ('hike.n.01', 'swanton', 'pacific.n.01'), ('swanton', 'pacific.n.01', 'ranch.n.01'), ('may.n.01',), ('camp.n.01',), ('hike.n.01',), ('swanton',), ('pacific.n.01',), ('ranch.n.01',), ('may.n.01', 'camp.n.01'), ('camp.n.01', 'hike.n.01'), ('hike.n.01', 'swanton'), ('swanton', 'pacific.n.01'), ('pacific.n.01', 'ranch.n.01'), ('may.n.01', 'camp.n.01', 'hike.n.01'), ('camp.n.01', 'hike.n.01', 'swanton'), ('hike.n.01', 'swanton', 'pacific.n.01'), ('swanton', 'pacific.n.01', 'ranch.n.01'), ('swanton',), ('pacific.n.01',), ('ranch.n.01',), ('open.n.01',), ('populace.n.01',), ('swanton', 'pacific.n.01'), ('pacific.n.01', 'ranch.n.01'), ('ranch.n.01', 'open.n.01'), ('open.n.01', 'populace.n.01'), ('swanton', 'pacific.n.01', 'ranch.n.01'), ('pacific.n.01', 'ranch.n.01', 'open.n.01'), ('ranch.n.01', 'open.n.01', 'populace.n.01'), ('master.n.06',), ('name.n.01',), ('swanton',), ('pacific.n.01',), ('ranch.n.01',), ('master.n.06', 'name.n.01'), ('name.n.01', 'swanton'), ('swanton', 'pacific.n.01'), ('pacific.n.01', 'ranch.n.01'), ('master.n.06', 'name.n.01', 'swanton'), ('name.n.01', 'swanton', 'pacific.n.01'), ('swanton', 'pacific.n.01', 'ranch.n.01'), ('fun.n.01',), ('fact.n.01',), ('rancho',), ('fun.n.01', 'fact.n.01'), ('fact.n.01', 'rancho'), ('fun.n.01', 'fact.n.01', 'rancho'), ('learn.v.01',), ('swanton',), ('pacific.n.01',), ('ranch.n.01',), ('learn.v.01', 'swanton'), ('swanton', 'pacific.n.01'), ('pacific.n.01', 'ranch.n.01'), ('learn.v.01', 'swanton', 'pacific.n.01'), ('swanton', 'pacific.n.01', 'ranch.n.01'), ('green.n.01',), ('house.n.01',), ('use.v.01',), ('green.n.01', 'house.n.01'), ('house.n.01', 'use.v.01'), ('green.n.01', 'house.n.01', 'use.v.01'), ('casa',), ('verde',), ('use.v.01',), ('casa', 'verde'), ('verde', 'use.v.01'), ('casa', 'verde', 'use.v.01'), ('tell.n.01',), ('green.n.01',), ('house.n.01',), ('tell.n.01', 'green.n.01'), ('green.n.01', 'house.n.01'), ('tell.n.01', 'green.n.01', 'house.n.01'), ('tell.n.01',), ('green.n.01',), ('house.n.01',), ('tell.n.01', 'green.n.01'), ('green.n.01', 'house.n.01'), ('tell.n.01', 'green.n.01', 'house.n.01'), ('tell.n.01',), ('green.n.01',), ('house.n.01',), ('tell.n.01', 'green.n.01'), ('green.n.01', 'house.n.01'), ('tell.n.01', 'green.n.01', 'house.n.01'), ('old.n.01',), ('cheese.n.01',), ('house.n.01',), ('old.n.01', 'cheese.n.01'), ('cheese.n.01', 'house.n.01'), ('old.n.01', 'cheese.n.01', 'house.n.01'), ('cheese.n.01',), ('house.n.01',), ('use.v.01',), ('cheese.n.01', 'house.n.01'), ('house.n.01', 'use.v.01'), ('cheese.n.01', 'house.n.01', 'use.v.01'), ('tell.n.01',), ('cheese.n.01',), ('house.n.01',), ('tell.n.01', 'cheese.n.01'), ('cheese.n.01', 'house.n.01'), ('tell.n.01', 'cheese.n.01', 'house.n.01'), ('rock.n.01',), ('building.n.01',), ('fall.v.01',), ('rock.n.01', 'building.n.01'), ('building.n.01', 'fall.v.01'), ('rock.n.01', 'building.n.01', 'fall.v.01'), ('rock.n.01',), ('building.n.01',), ('repair.v.01',), ('rock.n.01', 'building.n.01'), ('building.n.01', 'repair.v.01'), ('rock.n.01', 'building.n.01', 'repair.v.01'), ('swanton',), ('get.n.01',), ('name.n.01',), ('swanton', 'get.n.01'), ('get.n.01', 'name.n.01'), ('swanton', 'get.n.01', 'name.n.01'), ('una',), ('legua',), ('cuadrada',), ('mean.n.01',), ('spanish.n.01',), ('una', 'legua'), ('legua', 'cuadrada'), ('cuadrada', 'mean.n.01'), ('mean.n.01', 'spanish.n.01'), ('una', 'legua', 'cuadrada'), ('legua', 'cuadrada', 'mean.n.01'), ('cuadrada', 'mean.n.01', 'spanish.n.01'), ('master.n.06',), ('size.n.01',), ('land.n.01',), ('grant.n.01',), ('know.n.01',), ('swanton',), ('master.n.06', 'size.n.01'), ('size.n.01', 'land.n.01'), ('land.n.01', 'grant.n.01'), ('grant.n.01', 'know.n.01'), ('know.n.01', 'swanton'), ('master.n.06', 'size.n.01', 'land.n.01'), ('size.n.01', 'land.n.01', 'grant.n.01'), ('land.n.01', 'grant.n.01', 'know.n.01'), ('grant.n.01', 'know.n.01', 'swanton'), ('official.n.01',), ('name.n.01',), ('scott.n.01',), ('brook.n.01',), ('scott.n.01',), ('brook.n.01',), ('scott.n.01',), ('scott.n.01',), (\"'s\",), ('brook.n.01',), ('official.n.01', 'name.n.01'), ('name.n.01', 'scott.n.01'), ('scott.n.01', 'brook.n.01'), ('brook.n.01', 'scott.n.01'), ('scott.n.01', 'brook.n.01'), ('brook.n.01', 'scott.n.01'), ('scott.n.01', 'scott.n.01'), ('scott.n.01', \"'s\"), (\"'s\", 'brook.n.01'), ('official.n.01', 'name.n.01', 'scott.n.01'), ('name.n.01', 'scott.n.01', 'brook.n.01'), ('scott.n.01', 'brook.n.01', 'scott.n.01'), ('brook.n.01', 'scott.n.01', 'brook.n.01'), ('scott.n.01', 'brook.n.01', 'scott.n.01'), ('brook.n.01', 'scott.n.01', 'scott.n.01'), ('scott.n.01', 'scott.n.01', \"'s\"), ('scott.n.01', \"'s\", 'brook.n.01'), ('group.n.01',), ('autochthonal.s.01',), ('peoples.n.01',), ('populate.v.01',), ('swanton',), ('area.n.01',), ('spanish.n.01',), ('colonization.n.01',), ('group.n.01', 'autochthonal.s.01'), ('autochthonal.s.01', 'peoples.n.01'), ('peoples.n.01', 'populate.v.01'), ('populate.v.01', 'swanton'), ('swanton', 'area.n.01'), ('area.n.01', 'spanish.n.01'), ('spanish.n.01', 'colonization.n.01'), ('group.n.01', 'autochthonal.s.01', 'peoples.n.01'), ('autochthonal.s.01', 'peoples.n.01', 'populate.v.01'), ('peoples.n.01', 'populate.v.01', 'swanton'), ('populate.v.01', 'swanton', 'area.n.01'), ('swanton', 'area.n.01', 'spanish.n.01'), ('area.n.01', 'spanish.n.01', 'colonization.n.01'), ('group.n.01',), ('autochthonal.s.01',), ('peoples.n.01',), ('populate.v.01',), ('swanton',), ('area.n.01',), ('spanish.n.01',), ('colonization.n.01',), ('group.n.01', 'autochthonal.s.01'), ('autochthonal.s.01', 'peoples.n.01'), ('peoples.n.01', 'populate.v.01'), ('populate.v.01', 'swanton'), ('swanton', 'area.n.01'), ('area.n.01', 'spanish.n.01'), ('spanish.n.01', 'colonization.n.01'), ('group.n.01', 'autochthonal.s.01', 'peoples.n.01'), ('autochthonal.s.01', 'peoples.n.01', 'populate.v.01'), ('peoples.n.01', 'populate.v.01', 'swanton'), ('populate.v.01', 'swanton', 'area.n.01'), ('swanton', 'area.n.01', 'spanish.n.01'), ('area.n.01', 'spanish.n.01', 'colonization.n.01'), ('autochthonal.s.01',), ('peoples.n.01',), ('swanton',), ('normally.r.01',), ('mention.v.01',), ('ohlone',), ('autochthonal.s.01', 'peoples.n.01'), ('peoples.n.01', 'swanton'), ('swanton', 'normally.r.01'), ('normally.r.01', 'mention.v.01'), ('mention.v.01', 'ohlone'), ('autochthonal.s.01', 'peoples.n.01', 'swanton'), ('peoples.n.01', 'swanton', 'normally.r.01'), ('swanton', 'normally.r.01', 'mention.v.01'), ('normally.r.01', 'mention.v.01', 'ohlone'), ('autochthonal.s.01',), ('peoples.n.01',), ('swanton',), ('normally.r.01',), ('mention.v.01',), ('ohlone',), ('autochthonal.s.01', 'peoples.n.01'), ('peoples.n.01', 'swanton'), ('swanton', 'normally.r.01'), ('normally.r.01', 'mention.v.01'), ('mention.v.01', 'ohlone'), ('autochthonal.s.01', 'peoples.n.01', 'swanton'), ('peoples.n.01', 'swanton', 'normally.r.01'), ('swanton', 'normally.r.01', 'mention.v.01'), ('normally.r.01', 'mention.v.01', 'ohlone'), ('autochthonal.s.01',), ('peoples.n.01',), ('swanton',), ('normally.r.01',), ('mention.v.01',), ('ohlone',), ('autochthonal.s.01', 'peoples.n.01'), ('peoples.n.01', 'swanton'), ('swanton', 'normally.r.01'), ('normally.r.01', 'mention.v.01'), ('mention.v.01', 'ohlone'), ('autochthonal.s.01', 'peoples.n.01', 'swanton'), ('peoples.n.01', 'swanton', 'normally.r.01'), ('swanton', 'normally.r.01', 'mention.v.01'), ('normally.r.01', 'mention.v.01', 'ohlone'), ('many.a.01',), ('plant.n.01',), ('identify.v.01',), ('swanton/scott',), ('brook.n.01',), ('watershed.n.01',), ('many.a.01', 'plant.n.01'), ('plant.n.01', 'identify.v.01'), ('identify.v.01', 'swanton/scott'), ('swanton/scott', 'brook.n.01'), ('brook.n.01', 'watershed.n.01'), ('many.a.01', 'plant.n.01', 'identify.v.01'), ('plant.n.01', 'identify.v.01', 'swanton/scott'), ('identify.v.01', 'swanton/scott', 'brook.n.01'), ('swanton/scott', 'brook.n.01', 'watershed.n.01'), ('happen.v.01',), ('autochthonal.s.01',), ('people.n.01',), ('swanton',), ('know.n.01',), ('santa_claus.n.01',), ('cruz',), ('happen.v.01', 'autochthonal.s.01'), ('autochthonal.s.01', 'people.n.01'), ('people.n.01', 'swanton'), ('swanton', 'know.n.01'), ('know.n.01', 'santa_claus.n.01'), ('santa_claus.n.01', 'cruz'), ('happen.v.01', 'autochthonal.s.01', 'people.n.01'), ('autochthonal.s.01', 'people.n.01', 'swanton'), ('people.n.01', 'swanton', 'know.n.01'), ('swanton', 'know.n.01', 'santa_claus.n.01'), ('know.n.01', 'santa_claus.n.01', 'cruz'), ('spanish.n.01',), ('colonization.n.01',), ('california.n.01',), ('begin.n.01',), ('spanish.n.01', 'colonization.n.01'), ('colonization.n.01', 'california.n.01'), ('california.n.01', 'begin.n.01'), ('spanish.n.01', 'colonization.n.01', 'california.n.01'), ('colonization.n.01', 'california.n.01', 'begin.n.01'), ('mexico.n.01',), ('return.n.06',), ('control.n.01',), ('california.n.01',), ('mexico.n.01', 'return.n.06'), ('return.n.06', 'control.n.01'), ('control.n.01', 'california.n.01'), ('mexico.n.01', 'return.n.06', 'control.n.01'), ('return.n.06', 'control.n.01', 'california.n.01'), ('santa_claus.n.01',), ('cruz',), ('mission.n.01',), ('construct.v.01',), ('santa_claus.n.01', 'cruz'), ('cruz', 'mission.n.01'), ('mission.n.01', 'construct.v.01'), ('santa_claus.n.01', 'cruz', 'mission.n.01'), ('cruz', 'mission.n.01', 'construct.v.01'), ('master.n.06',), ('name.n.01',), ('land.n.01',), ('grant.n.01',), ('swanton',), ('part.n.01',), ('master.n.06', 'name.n.01'), ('name.n.01', 'land.n.01'), ('land.n.01', 'grant.n.01'), ('grant.n.01', 'swanton'), ('swanton', 'part.n.01'), ('master.n.06', 'name.n.01', 'land.n.01'), ('name.n.01', 'land.n.01', 'grant.n.01'), ('land.n.01', 'grant.n.01', 'swanton'), ('grant.n.01', 'swanton', 'part.n.01'), ('given.n.01',), ('title.n.01',), ('master.n.06',), ('land.n.01',), ('grant.n.01',), ('given.n.01', 'title.n.01'), ('title.n.01', 'master.n.06'), ('master.n.06', 'land.n.01'), ('land.n.01', 'grant.n.01'), ('given.n.01', 'title.n.01', 'master.n.06'), ('title.n.01', 'master.n.06', 'land.n.01'), ('master.n.06', 'land.n.01', 'grant.n.01'), ('james.n.01',), ('archibald',), ('purchase.n.01',), ('land.n.01',), ('james.n.01', 'archibald'), ('archibald', 'purchase.n.01'), ('purchase.n.01', 'land.n.01'), ('james.n.01', 'archibald', 'purchase.n.01'), ('archibald', 'purchase.n.01', 'land.n.01'), ('james.n.01',), ('archibald',), ('james.n.01', 'archibald'), ('james.n.01',), ('archibald',), ('land.n.01',), ('james.n.01', 'archibald'), ('archibald', 'land.n.01'), ('james.n.01', 'archibald', 'land.n.01'), ('construct.v.01',), ('cheese.n.01',), ('house.n.01',), ('construct.v.01', 'cheese.n.01'), ('cheese.n.01', 'house.n.01'), ('construct.v.01', 'cheese.n.01', 'house.n.01'), ('ambrogio',), ('gianone',), ('ever.r.01',), ('leave.n.01',), ('bargain.n.02',), ('property.n.01',), ('ambrogio', 'gianone'), ('gianone', 'ever.r.01'), ('ever.r.01', 'leave.n.01'), ('leave.n.01', 'bargain.n.02'), ('bargain.n.02', 'property.n.01'), ('ambrogio', 'gianone', 'ever.r.01'), ('gianone', 'ever.r.01', 'leave.n.01'), ('ever.r.01', 'leave.n.01', 'bargain.n.02'), ('leave.n.01', 'bargain.n.02', 'property.n.01'), ('name_calling.n.01',), ('swanton',), ('name.v.01',), ('become.v.01',), ('state.n.01',), ('name_calling.n.01', 'swanton'), ('swanton', 'name.v.01'), ('name.v.01', 'become.v.01'), ('become.v.01', 'state.n.01'), ('name_calling.n.01', 'swanton', 'name.v.01'), ('swanton', 'name.v.01', 'become.v.01'), ('name.v.01', 'become.v.01', 'state.n.01'), ('name_calling.n.01',), ('swanton',), ('name.v.01',), ('become.v.01',), ('state.n.01',), ('name_calling.n.01', 'swanton'), ('swanton', 'name.v.01'), ('name.v.01', 'become.v.01'), ('become.v.01', 'state.n.01'), ('name_calling.n.01', 'swanton', 'name.v.01'), ('swanton', 'name.v.01', 'become.v.01'), ('name.v.01', 'become.v.01', 'state.n.01'), ('swanton',), ('post.n.01',), ('office.n.01',), ('open.n.01',), ('swanton', 'post.n.01'), ('post.n.01', 'office.n.01'), ('office.n.01', 'open.n.01'), ('swanton', 'post.n.01', 'office.n.01'), ('post.n.01', 'office.n.01', 'open.n.01'), ('swanton',), ('post.n.01',), ('office.n.01',), ('stopping_point.n.01',), ('swanton', 'post.n.01'), ('post.n.01', 'office.n.01'), ('office.n.01', 'stopping_point.n.01'), ('swanton', 'post.n.01', 'office.n.01'), ('post.n.01', 'office.n.01', 'stopping_point.n.01'), ('propose.v.01',), ('name.n.01',), ('first.n.01',), ('local.n.01',), ('post.n.01',), ('office.n.01',), ('propose.v.01', 'name.n.01'), ('name.n.01', 'first.n.01'), ('first.n.01', 'local.n.01'), ('local.n.01', 'post.n.01'), ('post.n.01', 'office.n.01'), ('propose.v.01', 'name.n.01', 'first.n.01'), ('name.n.01', 'first.n.01', 'local.n.01'), ('first.n.01', 'local.n.01', 'post.n.01'), ('local.n.01', 'post.n.01', 'office.n.01'), ('type.n.01',), ('wood.n.01',), ('type.n.01', 'wood.n.01')], 'lemmatize_wn_hypernum': [('many.a.01',), ('woody_plant.n.01',), ('swanton',), ('pacific.n.01',), ('farm.n.01',), ('many.a.01', 'woody_plant.n.01'), ('woody_plant.n.01', 'swanton'), ('swanton', 'pacific.n.01'), ('pacific.n.01', 'farm.n.01'), ('many.a.01', 'woody_plant.n.01', 'swanton'), ('woody_plant.n.01', 'swanton', 'pacific.n.01'), ('swanton', 'pacific.n.01', 'farm.n.01'), ('many.a.01',), ('woody_plant.n.01',), ('happening.n.01',), ('2020',), ('many.a.01', 'woody_plant.n.01'), ('woody_plant.n.01', 'happening.n.01'), ('happening.n.01', '2020'), ('many.a.01', 'woody_plant.n.01', 'happening.n.01'), ('woody_plant.n.01', 'happening.n.01', '2020'), ('tract.n.01',), ('woody_plant.n.01',), ('taxonomic_group.n.01',), ('spr',), ('tract.n.01', 'woody_plant.n.01'), ('woody_plant.n.01', 'taxonomic_group.n.01'), ('taxonomic_group.n.01', 'spr'), ('tract.n.01', 'woody_plant.n.01', 'taxonomic_group.n.01'), ('woody_plant.n.01', 'taxonomic_group.n.01', 'spr'), ('past.n.01',), ('old.a.01',), ('woody_plant.n.01',), ('spr',), ('past.n.01', 'old.a.01'), ('old.a.01', 'woody_plant.n.01'), ('woody_plant.n.01', 'spr'), ('past.n.01', 'old.a.01', 'woody_plant.n.01'), ('old.a.01', 'woody_plant.n.01', 'spr'), ('biome/ecosystem/ecotype',), ('covering.n.02',), ('greatest.s.01',), ('region.n.03',), ('spr',), ('biome/ecosystem/ecotype', 'covering.n.02'), ('covering.n.02', 'greatest.s.01'), ('greatest.s.01', 'region.n.03'), ('region.n.03', 'spr'), ('biome/ecosystem/ecotype', 'covering.n.02', 'greatest.s.01'), ('covering.n.02', 'greatest.s.01', 'region.n.03'), ('greatest.s.01', 'region.n.03', 'spr'), ('valencia.n.01',), ('stream.n.01',), ('change_state.v.01',), ('relation.n.01',), ('spr',), ('valencia.n.01', 'stream.n.01'), ('stream.n.01', 'change_state.v.01'), ('change_state.v.01', 'relation.n.01'), ('relation.n.01', 'spr'), ('valencia.n.01', 'stream.n.01', 'change_state.v.01'), ('stream.n.01', 'change_state.v.01', 'relation.n.01'), ('change_state.v.01', 'relation.n.01', 'spr'), ('cal',), ('poly',), ('return.n.11',), ('swanton',), ('pacific.n.01',), ('farm.n.01',), ('cal', 'poly'), ('poly', 'return.n.11'), ('return.n.11', 'swanton'), ('swanton', 'pacific.n.01'), ('pacific.n.01', 'farm.n.01'), ('cal', 'poly', 'return.n.11'), ('poly', 'return.n.11', 'swanton'), ('return.n.11', 'swanton', 'pacific.n.01'), ('swanton', 'pacific.n.01', 'farm.n.01'), ('large.a.01',), ('swanton',), ('pacific.n.01',), ('farm.n.01',), ('large.a.01', 'swanton'), ('swanton', 'pacific.n.01'), ('pacific.n.01', 'farm.n.01'), ('large.a.01', 'swanton', 'pacific.n.01'), ('swanton', 'pacific.n.01', 'farm.n.01'), ('swanton',), ('pacific.n.01',), ('farm.n.01',), ('area.n.01',), ('people.n.01',), ('swanton', 'pacific.n.01'), ('pacific.n.01', 'farm.n.01'), ('farm.n.01', 'area.n.01'), ('area.n.01', 'people.n.01'), ('swanton', 'pacific.n.01', 'farm.n.01'), ('pacific.n.01', 'farm.n.01', 'area.n.01'), ('farm.n.01', 'area.n.01', 'people.n.01'), ('military_quarters.n.01',), ('walk.n.04',), ('swanton',), ('pacific.n.01',), ('farm.n.01',), ('military_quarters.n.01', 'walk.n.04'), ('walk.n.04', 'swanton'), ('swanton', 'pacific.n.01'), ('pacific.n.01', 'farm.n.01'), ('military_quarters.n.01', 'walk.n.04', 'swanton'), ('walk.n.04', 'swanton', 'pacific.n.01'), ('swanton', 'pacific.n.01', 'farm.n.01'), ('gregorian_calendar_month.n.01',), ('military_quarters.n.01',), ('walk.n.04',), ('swanton',), ('pacific.n.01',), ('farm.n.01',), ('gregorian_calendar_month.n.01', 'military_quarters.n.01'), ('military_quarters.n.01', 'walk.n.04'), ('walk.n.04', 'swanton'), ('swanton', 'pacific.n.01'), ('pacific.n.01', 'farm.n.01'), ('gregorian_calendar_month.n.01', 'military_quarters.n.01', 'walk.n.04'), ('military_quarters.n.01', 'walk.n.04', 'swanton'), ('walk.n.04', 'swanton', 'pacific.n.01'), ('swanton', 'pacific.n.01', 'farm.n.01'), ('swanton',), ('pacific.n.01',), ('farm.n.01',), ('area.n.01',), ('people.n.01',), ('swanton', 'pacific.n.01'), ('pacific.n.01', 'farm.n.01'), ('farm.n.01', 'area.n.01'), ('area.n.01', 'people.n.01'), ('swanton', 'pacific.n.01', 'farm.n.01'), ('pacific.n.01', 'farm.n.01', 'area.n.01'), ('farm.n.01', 'area.n.01', 'people.n.01'), ('creation.n.02',), ('language_unit.n.01',), ('swanton',), ('pacific.n.01',), ('farm.n.01',), ('creation.n.02', 'language_unit.n.01'), ('language_unit.n.01', 'swanton'), ('swanton', 'pacific.n.01'), ('pacific.n.01', 'farm.n.01'), ('creation.n.02', 'language_unit.n.01', 'swanton'), ('language_unit.n.01', 'swanton', 'pacific.n.01'), ('swanton', 'pacific.n.01', 'farm.n.01'), ('diversion.n.01',), ('information.n.02',), ('rancho',), ('diversion.n.01', 'information.n.02'), ('information.n.02', 'rancho'), ('diversion.n.01', 'information.n.02', 'rancho'), ('learn.v.01',), ('swanton',), ('pacific.n.01',), ('farm.n.01',), ('learn.v.01', 'swanton'), ('swanton', 'pacific.n.01'), ('pacific.n.01', 'farm.n.01'), ('learn.v.01', 'swanton', 'pacific.n.01'), ('swanton', 'pacific.n.01', 'farm.n.01'), ('chromatic_color.n.01',), ('building.n.01',), ('use.v.01',), ('chromatic_color.n.01', 'building.n.01'), ('building.n.01', 'use.v.01'), ('chromatic_color.n.01', 'building.n.01', 'use.v.01'), ('casa',), ('verde',), ('use.v.01',), ('casa', 'verde'), ('verde', 'use.v.01'), ('casa', 'verde', 'use.v.01'), ('tell.n.01',), ('chromatic_color.n.01',), ('building.n.01',), ('tell.n.01', 'chromatic_color.n.01'), ('chromatic_color.n.01', 'building.n.01'), ('tell.n.01', 'chromatic_color.n.01', 'building.n.01'), ('tell.n.01',), ('chromatic_color.n.01',), ('building.n.01',), ('tell.n.01', 'chromatic_color.n.01'), ('chromatic_color.n.01', 'building.n.01'), ('tell.n.01', 'chromatic_color.n.01', 'building.n.01'), ('tell.n.01',), ('chromatic_color.n.01',), ('building.n.01',), ('tell.n.01', 'chromatic_color.n.01'), ('chromatic_color.n.01', 'building.n.01'), ('tell.n.01', 'chromatic_color.n.01', 'building.n.01'), ('past.n.01',), ('dairy_product.n.01',), ('building.n.01',), ('past.n.01', 'dairy_product.n.01'), ('dairy_product.n.01', 'building.n.01'), ('past.n.01', 'dairy_product.n.01', 'building.n.01'), ('dairy_product.n.01',), ('building.n.01',), ('use.v.01',), ('dairy_product.n.01', 'building.n.01'), ('building.n.01', 'use.v.01'), ('dairy_product.n.01', 'building.n.01', 'use.v.01'), ('tell.n.01',), ('dairy_product.n.01',), ('building.n.01',), ('tell.n.01', 'dairy_product.n.01'), ('dairy_product.n.01', 'building.n.01'), ('tell.n.01', 'dairy_product.n.01', 'building.n.01'), ('natural_object.n.01',), ('structure.n.01',), ('travel.v.01',), ('natural_object.n.01', 'structure.n.01'), ('structure.n.01', 'travel.v.01'), ('natural_object.n.01', 'structure.n.01', 'travel.v.01'), ('natural_object.n.01',), ('structure.n.01',), ('better.v.02',), ('natural_object.n.01', 'structure.n.01'), ('structure.n.01', 'better.v.02'), ('natural_object.n.01', 'structure.n.01', 'better.v.02'), ('swanton',), ('return.n.11',), ('language_unit.n.01',), ('swanton', 'return.n.11'), ('return.n.11', 'language_unit.n.01'), ('swanton', 'return.n.11', 'language_unit.n.01'), ('una',), ('legua',), ('cuadrada',), ('average.n.01',), ('romance.n.03',), ('una', 'legua'), ('legua', 'cuadrada'), ('cuadrada', 'average.n.01'), ('average.n.01', 'romance.n.03'), ('una', 'legua', 'cuadrada'), ('legua', 'cuadrada', 'average.n.01'), ('cuadrada', 'average.n.01', 'romance.n.03'), ('creation.n.02',), ('magnitude.n.01',), ('real_property.n.01',), ('aid.n.03',), ('knowing.n.01',), ('swanton',), ('creation.n.02', 'magnitude.n.01'), ('magnitude.n.01', 'real_property.n.01'), ('real_property.n.01', 'aid.n.03'), ('aid.n.03', 'knowing.n.01'), ('knowing.n.01', 'swanton'), ('creation.n.02', 'magnitude.n.01', 'real_property.n.01'), ('magnitude.n.01', 'real_property.n.01', 'aid.n.03'), ('real_property.n.01', 'aid.n.03', 'knowing.n.01'), ('aid.n.03', 'knowing.n.01', 'swanton'), ('skilled_worker.n.01',), ('language_unit.n.01',), ('scott.n.01',), ('stream.n.01',), ('scott.n.01',), ('stream.n.01',), ('scott.n.01',), ('scott.n.01',), (\"'s\",), ('stream.n.01',), ('skilled_worker.n.01', 'language_unit.n.01'), ('language_unit.n.01', 'scott.n.01'), ('scott.n.01', 'stream.n.01'), ('stream.n.01', 'scott.n.01'), ('scott.n.01', 'stream.n.01'), ('stream.n.01', 'scott.n.01'), ('scott.n.01', 'scott.n.01'), ('scott.n.01', \"'s\"), (\"'s\", 'stream.n.01'), ('skilled_worker.n.01', 'language_unit.n.01', 'scott.n.01'), ('language_unit.n.01', 'scott.n.01', 'stream.n.01'), ('scott.n.01', 'stream.n.01', 'scott.n.01'), ('stream.n.01', 'scott.n.01', 'stream.n.01'), ('scott.n.01', 'stream.n.01', 'scott.n.01'), ('stream.n.01', 'scott.n.01', 'scott.n.01'), ('scott.n.01', 'scott.n.01', \"'s\"), ('scott.n.01', \"'s\", 'stream.n.01'), ('abstraction.n.06',), ('autochthonal.s.01',), ('people.n.01',), ('be.v.03',), ('swanton',), ('region.n.03',), ('romance.n.03',), ('constitution.n.02',), ('abstraction.n.06', 'autochthonal.s.01'), ('autochthonal.s.01', 'people.n.01'), ('people.n.01', 'be.v.03'), ('be.v.03', 'swanton'), ('swanton', 'region.n.03'), ('region.n.03', 'romance.n.03'), ('romance.n.03', 'constitution.n.02'), ('abstraction.n.06', 'autochthonal.s.01', 'people.n.01'), ('autochthonal.s.01', 'people.n.01', 'be.v.03'), ('people.n.01', 'be.v.03', 'swanton'), ('be.v.03', 'swanton', 'region.n.03'), ('swanton', 'region.n.03', 'romance.n.03'), ('region.n.03', 'romance.n.03', 'constitution.n.02'), ('abstraction.n.06',), ('autochthonal.s.01',), ('people.n.01',), ('be.v.03',), ('swanton',), ('region.n.03',), ('romance.n.03',), ('constitution.n.02',), ('abstraction.n.06', 'autochthonal.s.01'), ('autochthonal.s.01', 'people.n.01'), ('people.n.01', 'be.v.03'), ('be.v.03', 'swanton'), ('swanton', 'region.n.03'), ('region.n.03', 'romance.n.03'), ('romance.n.03', 'constitution.n.02'), ('abstraction.n.06', 'autochthonal.s.01', 'people.n.01'), ('autochthonal.s.01', 'people.n.01', 'be.v.03'), ('people.n.01', 'be.v.03', 'swanton'), ('be.v.03', 'swanton', 'region.n.03'), ('swanton', 'region.n.03', 'romance.n.03'), ('region.n.03', 'romance.n.03', 'constitution.n.02'), ('autochthonal.s.01',), ('people.n.01',), ('swanton',), ('normally.r.01',), ('think_of.v.04',), ('ohlone',), ('autochthonal.s.01', 'people.n.01'), ('people.n.01', 'swanton'), ('swanton', 'normally.r.01'), ('normally.r.01', 'think_of.v.04'), ('think_of.v.04', 'ohlone'), ('autochthonal.s.01', 'people.n.01', 'swanton'), ('people.n.01', 'swanton', 'normally.r.01'), ('swanton', 'normally.r.01', 'think_of.v.04'), ('normally.r.01', 'think_of.v.04', 'ohlone'), ('autochthonal.s.01',), ('people.n.01',), ('swanton',), ('normally.r.01',), ('think_of.v.04',), ('ohlone',), ('autochthonal.s.01', 'people.n.01'), ('people.n.01', 'swanton'), ('swanton', 'normally.r.01'), ('normally.r.01', 'think_of.v.04'), ('think_of.v.04', 'ohlone'), ('autochthonal.s.01', 'people.n.01', 'swanton'), ('people.n.01', 'swanton', 'normally.r.01'), ('swanton', 'normally.r.01', 'think_of.v.04'), ('normally.r.01', 'think_of.v.04', 'ohlone'), ('autochthonal.s.01',), ('people.n.01',), ('swanton',), ('normally.r.01',), ('think_of.v.04',), ('ohlone',), ('autochthonal.s.01', 'people.n.01'), ('people.n.01', 'swanton'), ('swanton', 'normally.r.01'), ('normally.r.01', 'think_of.v.04'), ('think_of.v.04', 'ohlone'), ('autochthonal.s.01', 'people.n.01', 'swanton'), ('people.n.01', 'swanton', 'normally.r.01'), ('swanton', 'normally.r.01', 'think_of.v.04'), ('normally.r.01', 'think_of.v.04', 'ohlone'), ('many.a.01',), ('building_complex.n.01',), ('determine.v.03',), ('swanton/scott',), ('stream.n.01',), ('line.n.11',), ('many.a.01', 'building_complex.n.01'), ('building_complex.n.01', 'determine.v.03'), ('determine.v.03', 'swanton/scott'), ('swanton/scott', 'stream.n.01'), ('stream.n.01', 'line.n.11'), ('many.a.01', 'building_complex.n.01', 'determine.v.03'), ('building_complex.n.01', 'determine.v.03', 'swanton/scott'), ('determine.v.03', 'swanton/scott', 'stream.n.01'), ('swanton/scott', 'stream.n.01', 'line.n.11'), ('happen.v.01',), ('autochthonal.s.01',), ('group.n.01',), ('swanton',), ('knowing.n.01',), ('santa_claus.n.01',), ('cruz',), ('happen.v.01', 'autochthonal.s.01'), ('autochthonal.s.01', 'group.n.01'), ('group.n.01', 'swanton'), ('swanton', 'knowing.n.01'), ('knowing.n.01', 'santa_claus.n.01'), ('santa_claus.n.01', 'cruz'), ('happen.v.01', 'autochthonal.s.01', 'group.n.01'), ('autochthonal.s.01', 'group.n.01', 'swanton'), ('group.n.01', 'swanton', 'knowing.n.01'), ('swanton', 'knowing.n.01', 'santa_claus.n.01'), ('knowing.n.01', 'santa_claus.n.01', 'cruz'), ('romance.n.03',), ('constitution.n.02',), ('california.n.01',), ('begin.n.01',), ('romance.n.03', 'constitution.n.02'), ('constitution.n.02', 'california.n.01'), ('california.n.01', 'begin.n.01'), ('romance.n.03', 'constitution.n.02', 'california.n.01'), ('constitution.n.02', 'california.n.01', 'begin.n.01'), ('mexico.n.01',), ('income.n.01',), ('power.n.01',), ('california.n.01',), ('mexico.n.01', 'income.n.01'), ('income.n.01', 'power.n.01'), ('power.n.01', 'california.n.01'), ('mexico.n.01', 'income.n.01', 'power.n.01'), ('income.n.01', 'power.n.01', 'california.n.01'), ('santa_claus.n.01',), ('cruz',), ('nongovernmental_organization.n.01',), ('make.v.03',), ('santa_claus.n.01', 'cruz'), ('cruz', 'nongovernmental_organization.n.01'), ('nongovernmental_organization.n.01', 'make.v.03'), ('santa_claus.n.01', 'cruz', 'nongovernmental_organization.n.01'), ('cruz', 'nongovernmental_organization.n.01', 'make.v.03'), ('creation.n.02',), ('language_unit.n.01',), ('real_property.n.01',), ('aid.n.03',), ('swanton',), ('relation.n.01',), ('creation.n.02', 'language_unit.n.01'), ('language_unit.n.01', 'real_property.n.01'), ('real_property.n.01', 'aid.n.03'), ('aid.n.03', 'swanton'), ('swanton', 'relation.n.01'), ('creation.n.02', 'language_unit.n.01', 'real_property.n.01'), ('language_unit.n.01', 'real_property.n.01', 'aid.n.03'), ('real_property.n.01', 'aid.n.03', 'swanton'), ('aid.n.03', 'swanton', 'relation.n.01'), ('assumption.n.02',), ('heading.n.01',), ('creation.n.02',), ('real_property.n.01',), ('aid.n.03',), ('assumption.n.02', 'heading.n.01'), ('heading.n.01', 'creation.n.02'), ('creation.n.02', 'real_property.n.01'), ('real_property.n.01', 'aid.n.03'), ('assumption.n.02', 'heading.n.01', 'creation.n.02'), ('heading.n.01', 'creation.n.02', 'real_property.n.01'), ('creation.n.02', 'real_property.n.01', 'aid.n.03'), ('james.n.01',), ('archibald',), ('acquisition.n.01',), ('real_property.n.01',), ('james.n.01', 'archibald'), ('archibald', 'acquisition.n.01'), ('acquisition.n.01', 'real_property.n.01'), ('james.n.01', 'archibald', 'acquisition.n.01'), ('archibald', 'acquisition.n.01', 'real_property.n.01'), ('james.n.01',), ('archibald',), ('james.n.01', 'archibald'), ('james.n.01',), ('archibald',), ('real_property.n.01',), ('james.n.01', 'archibald'), ('archibald', 'real_property.n.01'), ('james.n.01', 'archibald', 'real_property.n.01'), ('make.v.03',), ('dairy_product.n.01',), ('building.n.01',), ('make.v.03', 'dairy_product.n.01'), ('dairy_product.n.01', 'building.n.01'), ('make.v.03', 'dairy_product.n.01', 'building.n.01'), ('ambrogio',), ('gianone',), ('ever.r.01',), ('time_off.n.01',), ('purchase.n.02',), ('possession.n.02',), ('ambrogio', 'gianone'), ('gianone', 'ever.r.01'), ('ever.r.01', 'time_off.n.01'), ('time_off.n.01', 'purchase.n.02'), ('purchase.n.02', 'possession.n.02'), ('ambrogio', 'gianone', 'ever.r.01'), ('gianone', 'ever.r.01', 'time_off.n.01'), ('ever.r.01', 'time_off.n.01', 'purchase.n.02'), ('time_off.n.01', 'purchase.n.02', 'possession.n.02'), ('defamation.n.01',), ('swanton',), ('label.v.01',), ('change_state.v.01',), ('administrative_district.n.01',), ('defamation.n.01', 'swanton'), ('swanton', 'label.v.01'), ('label.v.01', 'change_state.v.01'), ('change_state.v.01', 'administrative_district.n.01'), ('defamation.n.01', 'swanton', 'label.v.01'), ('swanton', 'label.v.01', 'change_state.v.01'), ('label.v.01', 'change_state.v.01', 'administrative_district.n.01'), ('defamation.n.01',), ('swanton',), ('label.v.01',), ('change_state.v.01',), ('administrative_district.n.01',), ('defamation.n.01', 'swanton'), ('swanton', 'label.v.01'), ('label.v.01', 'change_state.v.01'), ('change_state.v.01', 'administrative_district.n.01'), ('defamation.n.01', 'swanton', 'label.v.01'), ('swanton', 'label.v.01', 'change_state.v.01'), ('label.v.01', 'change_state.v.01', 'administrative_district.n.01'), ('swanton',), ('position.n.01',), ('place_of_business.n.01',), ('area.n.01',), ('swanton', 'position.n.01'), ('position.n.01', 'place_of_business.n.01'), ('place_of_business.n.01', 'area.n.01'), ('swanton', 'position.n.01', 'place_of_business.n.01'), ('position.n.01', 'place_of_business.n.01', 'area.n.01'), ('swanton',), ('position.n.01',), ('place_of_business.n.01',), ('end.n.02',), ('swanton', 'position.n.01'), ('position.n.01', 'place_of_business.n.01'), ('place_of_business.n.01', 'end.n.02'), ('swanton', 'position.n.01', 'place_of_business.n.01'), ('position.n.01', 'place_of_business.n.01', 'end.n.02'), ('declare.v.01',), ('language_unit.n.01',), ('rank.n.02',), ('public_transport.n.01',), ('position.n.01',), ('place_of_business.n.01',), ('declare.v.01', 'language_unit.n.01'), ('language_unit.n.01', 'rank.n.02'), ('rank.n.02', 'public_transport.n.01'), ('public_transport.n.01', 'position.n.01'), ('position.n.01', 'place_of_business.n.01'), ('declare.v.01', 'language_unit.n.01', 'rank.n.02'), ('language_unit.n.01', 'rank.n.02', 'public_transport.n.01'), ('rank.n.02', 'public_transport.n.01', 'position.n.01'), ('public_transport.n.01', 'position.n.01', 'place_of_business.n.01'), ('kind.n.01',), ('plant_material.n.01',), ('kind.n.01', 'plant_material.n.01')]})\n"
          ]
        }
      ]
    },
    {
      "cell_type": "code",
      "metadata": {
        "colab": {
          "base_uri": "https://localhost:8080/"
        },
        "id": "WQ8XaAvQBGB-",
        "outputId": "2da88364-3324-41d4-bf59-fff4cdf22c3f"
      },
      "source": [
        "features.keys()"
      ],
      "execution_count": null,
      "outputs": [
        {
          "output_type": "execute_result",
          "data": {
            "text/plain": [
              "dict_keys(['lemmatize_ngram', 'lemmatize_wn_synset', 'lemmatize_wn_hypernum'])"
            ]
          },
          "metadata": {},
          "execution_count": 180
        }
      ]
    },
    {
      "cell_type": "code",
      "metadata": {
        "colab": {
          "base_uri": "https://localhost:8080/"
        },
        "id": "Ef0Gf4IlCI5Q",
        "outputId": "f9850fc2-f1d3-4b78-8953-70de47b9daae"
      },
      "source": [
        "len(features['lemmatize_wn_synset'][1])"
      ],
      "execution_count": null,
      "outputs": [
        {
          "output_type": "execute_result",
          "data": {
            "text/plain": [
              "1"
            ]
          },
          "metadata": {},
          "execution_count": 181
        }
      ]
    },
    {
      "cell_type": "code",
      "metadata": {
        "id": "3ZkU6kXdo_mX"
      },
      "source": [
        "feature_list = []\n",
        "uno_g = []\n",
        "two_g = []\n",
        "three_g = []\n",
        "for norm, items in features.items():\n",
        "  for ngram in items:\n",
        "    if len(ngram)==1:\n",
        "      uno_g.append(ngram)\n",
        "    elif len(ngram)==2:\n",
        "      two_g.append(ngram)\n",
        "    elif len(ngram)==3:\n",
        "      three_g.append(ngram)\n",
        "  \n",
        "all_features = [uno_g, two_g, three_g]"
      ],
      "execution_count": null,
      "outputs": []
    },
    {
      "cell_type": "code",
      "metadata": {
        "id": "5Vq54fkDdKCq"
      },
      "source": [
        "### Test WordNet Approach\n",
        "test_utters = ['What kind of tree can be found here?','What does SPR stand for?', 'What is your name?']#, 'How are you today?', 'What does SPR stand for?']\n",
        "\n",
        "# test_ngram = get_ngram_features(preprocess(test_utter[1]))\n",
        "\n",
        "# feature_list = []\n",
        "# uno_g = []\n",
        "# two_g = []\n",
        "# three_g = []\n",
        "# for norm, items in test_ngram.items():\n",
        "#   uno_g.extend(items[0])\n",
        "#   two_g.extend(items[1])\n",
        "#   three_g.extend(items[2])\n",
        "# test_features = [uno_g, two_g, three_g]\n",
        "# test_features"
      ],
      "execution_count": null,
      "outputs": []
    },
    {
      "cell_type": "code",
      "metadata": {
        "id": "UU595KmYOqj8"
      },
      "source": [
        ""
      ],
      "execution_count": null,
      "outputs": []
    },
    {
      "cell_type": "code",
      "metadata": {
        "colab": {
          "base_uri": "https://localhost:8080/"
        },
        "id": "JrXcNMBh8rmB",
        "outputId": "538d8d23-5541-4a72-e15f-e5be269f48e7"
      },
      "source": [
        "print(score_ngrams(test_features, all_features, return_seen=True))"
      ],
      "execution_count": null,
      "outputs": [
        {
          "output_type": "stream",
          "name": "stdout",
          "text": [
            "(0.6283889300503115, {('spr', 'base.n.08'), ('spr',), ('base.n.08',), ('stand',), ('support.n.10',), ('spr', 'stand'), ('spr', 'support.n.10')})\n"
          ]
        }
      ]
    },
    {
      "cell_type": "code",
      "metadata": {
        "id": "hX-dA2WwN7FO"
      },
      "source": [
        "def test(test_utter):\n",
        "  for i in test_utter:\n",
        "    print(\"User utterance: \" +str(i))\n",
        "    test_ngram = get_ngram_features(preprocess(i))\n",
        "    feature_list = []\n",
        "    uno_g = []\n",
        "    two_g = []\n",
        "    three_g = []\n",
        "    for norm, items in test_ngram.items():\n",
        "      uno_g.extend(items[0])\n",
        "      two_g.extend(items[1])\n",
        "      three_g.extend(items[2])\n",
        "    test_features = [uno_g, two_g, three_g]\n",
        "    \n",
        "    score, seen = score_ngrams(test_features, all_features, return_seen=True)\n",
        "    print('Score:' + str(score))\n",
        "    print('Score >= 0.5: ' + str(score>=0.5))\n",
        "    print('Seen:')\n",
        "    print(list(seen))\n",
        "    #print(score, seen)"
      ],
      "execution_count": null,
      "outputs": []
    },
    {
      "cell_type": "code",
      "metadata": {
        "id": "x17o9UtjOzJw"
      },
      "source": [
        "test_utters = ['What kind of trees can be found here?', 'What does SPR stand for?',  'Do you enjoy cake?', 'Are there birches around?','What is your name?']"
      ],
      "execution_count": null,
      "outputs": []
    },
    {
      "cell_type": "code",
      "metadata": {
        "colab": {
          "base_uri": "https://localhost:8080/",
          "height": 796
        },
        "id": "4n7AcbcM8fCb",
        "outputId": "28f560ef-9e2c-4b77-bf00-1edae08dca2c"
      },
      "source": [
        "test(test_utters)"
      ],
      "execution_count": null,
      "outputs": [
        {
          "output_type": "stream",
          "name": "stdout",
          "text": [
            "User utterance: What kind of trees can be found here?\n",
            "Score:3.1156157115292085\n",
            "Score >= 0.5: True\n",
            "Seen:\n",
            "[('woody_plant.n.01',), ('kind.n.01',), ('tree',), ('tree.n.01',)]\n",
            "User utterance: What does SPR stand for?\n",
            "Score:0.6283889300503115\n",
            "Score >= 0.5: True\n",
            "Seen:\n",
            "[('spr',)]\n",
            "User utterance: Do you enjoy cake?\n",
            "Score:0.0\n",
            "Score >= 0.5: False\n",
            "Seen:\n",
            "[]\n",
            "User utterance: Are there birches around?\n",
            "Score:1.2304489213782739\n",
            "Score >= 0.5: True\n",
            "Seen:\n",
            "[('wood.n.01',)]\n",
            "User utterance: What is your name?\n"
          ]
        },
        {
          "output_type": "error",
          "ename": "RuntimeError",
          "evalue": "ignored",
          "traceback": [
            "\u001b[0;31m---------------------------------------------------------------------------\u001b[0m",
            "\u001b[0;31mStopIteration\u001b[0m                             Traceback (most recent call last)",
            "\u001b[0;32m/usr/local/lib/python3.7/dist-packages/nltk/util.py\u001b[0m in \u001b[0;36mngrams\u001b[0;34m(sequence, n, pad_left, pad_right, left_pad_symbol, right_pad_symbol)\u001b[0m\n\u001b[1;32m    467\u001b[0m     \u001b[0;32mwhile\u001b[0m \u001b[0mn\u001b[0m \u001b[0;34m>\u001b[0m \u001b[0;36m1\u001b[0m\u001b[0;34m:\u001b[0m\u001b[0;34m\u001b[0m\u001b[0;34m\u001b[0m\u001b[0m\n\u001b[0;32m--> 468\u001b[0;31m         \u001b[0mhistory\u001b[0m\u001b[0;34m.\u001b[0m\u001b[0mappend\u001b[0m\u001b[0;34m(\u001b[0m\u001b[0mnext\u001b[0m\u001b[0;34m(\u001b[0m\u001b[0msequence\u001b[0m\u001b[0;34m)\u001b[0m\u001b[0;34m)\u001b[0m\u001b[0;34m\u001b[0m\u001b[0;34m\u001b[0m\u001b[0m\n\u001b[0m\u001b[1;32m    469\u001b[0m         \u001b[0mn\u001b[0m \u001b[0;34m-=\u001b[0m \u001b[0;36m1\u001b[0m\u001b[0;34m\u001b[0m\u001b[0;34m\u001b[0m\u001b[0m\n",
            "\u001b[0;31mStopIteration\u001b[0m: ",
            "\nThe above exception was the direct cause of the following exception:\n",
            "\u001b[0;31mRuntimeError\u001b[0m                              Traceback (most recent call last)",
            "\u001b[0;32m<ipython-input-206-eef35948d3a5>\u001b[0m in \u001b[0;36m<module>\u001b[0;34m()\u001b[0m\n\u001b[0;32m----> 1\u001b[0;31m \u001b[0mtest\u001b[0m\u001b[0;34m(\u001b[0m\u001b[0mtest_utters\u001b[0m\u001b[0;34m)\u001b[0m\u001b[0;34m\u001b[0m\u001b[0;34m\u001b[0m\u001b[0m\n\u001b[0m",
            "\u001b[0;32m<ipython-input-185-1a10237de3ee>\u001b[0m in \u001b[0;36mtest\u001b[0;34m(test_utter)\u001b[0m\n\u001b[1;32m      2\u001b[0m   \u001b[0;32mfor\u001b[0m \u001b[0mi\u001b[0m \u001b[0;32min\u001b[0m \u001b[0mtest_utter\u001b[0m\u001b[0;34m:\u001b[0m\u001b[0;34m\u001b[0m\u001b[0;34m\u001b[0m\u001b[0m\n\u001b[1;32m      3\u001b[0m     \u001b[0mprint\u001b[0m\u001b[0;34m(\u001b[0m\u001b[0;34m\"User utterance: \"\u001b[0m \u001b[0;34m+\u001b[0m\u001b[0mstr\u001b[0m\u001b[0;34m(\u001b[0m\u001b[0mi\u001b[0m\u001b[0;34m)\u001b[0m\u001b[0;34m)\u001b[0m\u001b[0;34m\u001b[0m\u001b[0;34m\u001b[0m\u001b[0m\n\u001b[0;32m----> 4\u001b[0;31m     \u001b[0mtest_ngram\u001b[0m \u001b[0;34m=\u001b[0m \u001b[0mget_ngram_features\u001b[0m\u001b[0;34m(\u001b[0m\u001b[0mpreprocess\u001b[0m\u001b[0;34m(\u001b[0m\u001b[0mi\u001b[0m\u001b[0;34m)\u001b[0m\u001b[0;34m)\u001b[0m\u001b[0;34m\u001b[0m\u001b[0;34m\u001b[0m\u001b[0m\n\u001b[0m\u001b[1;32m      5\u001b[0m     \u001b[0mfeature_list\u001b[0m \u001b[0;34m=\u001b[0m \u001b[0;34m[\u001b[0m\u001b[0;34m]\u001b[0m\u001b[0;34m\u001b[0m\u001b[0;34m\u001b[0m\u001b[0m\n\u001b[1;32m      6\u001b[0m     \u001b[0muno_g\u001b[0m \u001b[0;34m=\u001b[0m \u001b[0;34m[\u001b[0m\u001b[0;34m]\u001b[0m\u001b[0;34m\u001b[0m\u001b[0;34m\u001b[0m\u001b[0m\n",
            "\u001b[0;32m<ipython-input-174-99a048c44b26>\u001b[0m in \u001b[0;36mget_ngram_features\u001b[0;34m(preprocessed_text)\u001b[0m\n\u001b[1;32m      3\u001b[0m \u001b[0;34m\u001b[0m\u001b[0m\n\u001b[1;32m      4\u001b[0m \u001b[0;32mdef\u001b[0m \u001b[0mget_ngram_features\u001b[0m\u001b[0;34m(\u001b[0m\u001b[0mpreprocessed_text\u001b[0m\u001b[0;34m)\u001b[0m\u001b[0;34m:\u001b[0m\u001b[0;34m\u001b[0m\u001b[0;34m\u001b[0m\u001b[0m\n\u001b[0;32m----> 5\u001b[0;31m   \u001b[0mngram_lists\u001b[0m \u001b[0;34m=\u001b[0m \u001b[0mmake_ngram_list\u001b[0m\u001b[0;34m(\u001b[0m\u001b[0mpreprocessed_text\u001b[0m\u001b[0;34m,\u001b[0m \u001b[0mmax_ngram\u001b[0m\u001b[0;34m=\u001b[0m\u001b[0;36m3\u001b[0m\u001b[0;34m)\u001b[0m\u001b[0;34m\u001b[0m\u001b[0;34m\u001b[0m\u001b[0m\n\u001b[0m\u001b[1;32m      6\u001b[0m   \u001b[0mnormed_ngram_features\u001b[0m \u001b[0;34m=\u001b[0m \u001b[0mdefaultdict\u001b[0m\u001b[0;34m(\u001b[0m\u001b[0mlist\u001b[0m\u001b[0;34m)\u001b[0m\u001b[0;34m\u001b[0m\u001b[0;34m\u001b[0m\u001b[0m\n\u001b[1;32m      7\u001b[0m   \u001b[0;32mfor\u001b[0m \u001b[0mnormalization\u001b[0m \u001b[0;32min\u001b[0m \u001b[0;34m[\u001b[0m\u001b[0mlemmatize_ngram\u001b[0m\u001b[0;34m,\u001b[0m \u001b[0mlemmatize_wn_synset\u001b[0m\u001b[0;34m,\u001b[0m \u001b[0mlemmatize_wn_hypernum\u001b[0m\u001b[0;34m]\u001b[0m\u001b[0;34m:\u001b[0m\u001b[0;34m\u001b[0m\u001b[0;34m\u001b[0m\u001b[0m\n",
            "\u001b[0;32m<ipython-input-172-d524c60d7776>\u001b[0m in \u001b[0;36mmake_ngram_list\u001b[0;34m(text, max_ngram)\u001b[0m\n\u001b[1;32m     31\u001b[0m     \u001b[0mngram_list\u001b[0m \u001b[0;34m=\u001b[0m \u001b[0;34m[\u001b[0m\u001b[0;34m]\u001b[0m\u001b[0;34m\u001b[0m\u001b[0;34m\u001b[0m\u001b[0m\n\u001b[1;32m     32\u001b[0m     \u001b[0;32mfor\u001b[0m \u001b[0mn\u001b[0m \u001b[0;32min\u001b[0m \u001b[0mrange\u001b[0m\u001b[0;34m(\u001b[0m\u001b[0;36m1\u001b[0m\u001b[0;34m,\u001b[0m \u001b[0mmax_ngram\u001b[0m\u001b[0;34m+\u001b[0m\u001b[0;36m1\u001b[0m\u001b[0;34m)\u001b[0m\u001b[0;34m:\u001b[0m\u001b[0;34m\u001b[0m\u001b[0;34m\u001b[0m\u001b[0m\n\u001b[0;32m---> 33\u001b[0;31m         \u001b[0mngram_list\u001b[0m\u001b[0;34m.\u001b[0m\u001b[0mappend\u001b[0m\u001b[0;34m(\u001b[0m\u001b[0mlist\u001b[0m\u001b[0;34m(\u001b[0m\u001b[0mngrams\u001b[0m\u001b[0;34m(\u001b[0m\u001b[0mtext\u001b[0m\u001b[0;34m,\u001b[0m \u001b[0mn\u001b[0m\u001b[0;34m)\u001b[0m\u001b[0;34m)\u001b[0m\u001b[0;34m)\u001b[0m\u001b[0;34m\u001b[0m\u001b[0;34m\u001b[0m\u001b[0m\n\u001b[0m\u001b[1;32m     34\u001b[0m     \u001b[0;32mreturn\u001b[0m \u001b[0mngram_list\u001b[0m\u001b[0;34m\u001b[0m\u001b[0;34m\u001b[0m\u001b[0m\n\u001b[1;32m     35\u001b[0m \u001b[0;34m\u001b[0m\u001b[0m\n",
            "\u001b[0;31mRuntimeError\u001b[0m: generator raised StopIteration"
          ]
        }
      ]
    },
    {
      "cell_type": "code",
      "metadata": {
        "colab": {
          "base_uri": "https://localhost:8080/"
        },
        "id": "8PCGk-kBna5v",
        "outputId": "af82da84-69b5-4b56-9b00-72a5515770c7"
      },
      "source": [
        "all_features"
      ],
      "execution_count": null,
      "outputs": [
        {
          "output_type": "execute_result",
          "data": {
            "text/plain": [
              "[[('many',),\n",
              "  ('tree',),\n",
              "  ('swanton',),\n",
              "  ('pacific',),\n",
              "  ('ranch',),\n",
              "  ('many.a.01',),\n",
              "  ('tree.n.01',),\n",
              "  ('swanton',),\n",
              "  ('pacific.n.01',),\n",
              "  ('ranch.n.01',),\n",
              "  ('many.a.01',),\n",
              "  ('woody_plant.n.01',),\n",
              "  ('swanton',),\n",
              "  ('pacific.n.01',),\n",
              "  ('farm.n.01',)],\n",
              " [('many', 'tree'),\n",
              "  ('tree', 'swanton'),\n",
              "  ('swanton', 'pacific'),\n",
              "  ('pacific', 'ranch'),\n",
              "  ('many.a.01', 'tree.n.01'),\n",
              "  ('tree.n.01', 'swanton'),\n",
              "  ('swanton', 'pacific.n.01'),\n",
              "  ('pacific.n.01', 'ranch.n.01'),\n",
              "  ('many.a.01', 'woody_plant.n.01'),\n",
              "  ('woody_plant.n.01', 'swanton'),\n",
              "  ('swanton', 'pacific.n.01'),\n",
              "  ('pacific.n.01', 'farm.n.01')],\n",
              " [('many', 'tree', 'swanton'),\n",
              "  ('tree', 'swanton', 'pacific'),\n",
              "  ('swanton', 'pacific', 'ranch'),\n",
              "  ('many.a.01', 'tree.n.01', 'swanton'),\n",
              "  ('tree.n.01', 'swanton', 'pacific.n.01'),\n",
              "  ('swanton', 'pacific.n.01', 'ranch.n.01'),\n",
              "  ('many.a.01', 'woody_plant.n.01', 'swanton'),\n",
              "  ('woody_plant.n.01', 'swanton', 'pacific.n.01'),\n",
              "  ('swanton', 'pacific.n.01', 'farm.n.01')]]"
            ]
          },
          "metadata": {},
          "execution_count": 35
        }
      ]
    },
    {
      "cell_type": "markdown",
      "metadata": {
        "id": "mhDXZxNWVuWx"
      },
      "source": [
        "## SBERT Classifier"
      ]
    },
    {
      "cell_type": "code",
      "metadata": {
        "id": "JaXCPOcfWDq3"
      },
      "source": [
        "!pip install spacy_sentence_bert"
      ],
      "execution_count": null,
      "outputs": []
    },
    {
      "cell_type": "code",
      "metadata": {
        "id": "d8op9q0DVwk1"
      },
      "source": [
        "import spacy_sentence_bert\n",
        "nlp_sbert = spacy_sentence_bert.load_model('en_stsb_distilbert_base')"
      ],
      "execution_count": null,
      "outputs": []
    },
    {
      "cell_type": "code",
      "metadata": {
        "id": "AH2JLqsJWu-D"
      },
      "source": [
        ""
      ],
      "execution_count": null,
      "outputs": []
    },
    {
      "cell_type": "markdown",
      "metadata": {
        "id": "D7epTZmCW0xn"
      },
      "source": [
        "##### Perform cosine sim on each sentence in training data"
      ]
    },
    {
      "cell_type": "code",
      "metadata": {
        "id": "ivA16lw4WBGZ"
      },
      "source": [
        "srp_embedded_sentences = []\n",
        "for sent in srp_utterances:\n",
        "  srp_embedded_sentences.append(nlp_sbert(sent).vector)\n",
        "srp_embedded_sentences_np = np.array(srp_embedded_sentences)"
      ],
      "execution_count": null,
      "outputs": []
    },
    {
      "cell_type": "code",
      "metadata": {
        "colab": {
          "base_uri": "https://localhost:8080/"
        },
        "id": "WXpiJ_5UWCO4",
        "outputId": "2806c5bc-d138-47e0-8f4a-aab77ff5114a"
      },
      "source": [
        "small_talk_embed = nlp_sbert(small_talk[0]).vector\n",
        "for sent in srp_embedded_sentences:\n",
        "  print(cosine_similarity(sent.reshape(1, -1), small_talk_embed.reshape(1, -1)))"
      ],
      "execution_count": null,
      "outputs": [
        {
          "output_type": "stream",
          "name": "stdout",
          "text": [
            "[[0.11206175]]\n",
            "[[-0.01854086]]\n",
            "[[0.05036506]]\n",
            "[[0.15270287]]\n",
            "[[0.13122937]]\n",
            "[[0.2334921]]\n",
            "[[0.42959803]]\n"
          ]
        }
      ]
    },
    {
      "cell_type": "markdown",
      "metadata": {
        "id": "v7Tq4H6rW3sH"
      },
      "source": [
        "##### Or average vectors from training data before using cos similarity"
      ]
    },
    {
      "cell_type": "code",
      "metadata": {
        "colab": {
          "base_uri": "https://localhost:8080/"
        },
        "id": "ZtEE9X9MW9bJ",
        "outputId": "205b5e97-49bd-432b-a5e4-34d750618a93"
      },
      "source": [
        "srp_embedded_sentences_np.shape"
      ],
      "execution_count": null,
      "outputs": [
        {
          "output_type": "execute_result",
          "data": {
            "text/plain": [
              "(7, 768)"
            ]
          },
          "metadata": {},
          "execution_count": 28
        }
      ]
    },
    {
      "cell_type": "code",
      "metadata": {
        "colab": {
          "base_uri": "https://localhost:8080/"
        },
        "id": "jekW1x4Rl5hR",
        "outputId": "e0e95b7b-3167-4743-d339-c86885a38d51"
      },
      "source": [
        "cosine_similarity(np.mean(srp_embedded_sentences_np, axis=0).reshape(1,-1), small_talk_embed.reshape(1,-1))"
      ],
      "execution_count": null,
      "outputs": [
        {
          "output_type": "execute_result",
          "data": {
            "text/plain": [
              "array([[0.23025683]], dtype=float32)"
            ]
          },
          "metadata": {},
          "execution_count": 32
        }
      ]
    },
    {
      "cell_type": "code",
      "metadata": {
        "id": "vjlotIsKl-NU"
      },
      "source": [
        ""
      ],
      "execution_count": null,
      "outputs": []
    }
  ]
}